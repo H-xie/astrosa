{
 "cells": [
  {
   "cell_type": "code",
   "execution_count": null,
   "metadata": {
    "collapsed": true
   },
   "outputs": [],
   "source": [
    "import matplotlib.pyplot as plt\n",
    "import numpy as np\n",
    "from astropy.io import fits\n",
    "from astropy.stats import sigma_clipped_stats\n",
    "from astropy.visualization import SqrtStretch\n",
    "from astropy.visualization.mpl_normalize import ImageNormalize\n",
    "from photutils.aperture import CircularAperture\n",
    "from photutils.detection import DAOStarFinder\n",
    "\n",
    "from cloud_to_data import Mask\n",
    "\n",
    "mask = Mask()\n",
    "mask_data = mask.data\n",
    "t = mask_data == 0\n",
    "mask_data = t\n",
    "\n",
    "try_clear = True\n",
    "if try_clear:\n",
    "    # 读取图像\n",
    "    datafits = fits.open(\"ossaf/data/2023_05_23__00_24_04.fits.bz2\")[0]\n",
    "    data = datafits.data[0]\n",
    "    gain = datafits.header['GAIN_ELE']\n",
    "    # data = data / 1e6\n",
    "\n",
    "    mean, median, std = sigma_clipped_stats(data, mask=mask_data, sigma=3.0)\n",
    "    print((mean, median, std))\n",
    "\n",
    "    # 创建DAOStarFinder对象\n",
    "    daofind = DAOStarFinder(fwhm=4.0, threshold=3. * std)\n",
    "\n",
    "    # 提取点源\n",
    "    sources = daofind.find_stars(data - median, mask=mask_data)\n",
    "\n",
    "    # 打印点源坐标和其他属性\n",
    "    # print(sources)\n",
    "\n",
    "    positions = np.transpose((sources['xcentroid'], sources['ycentroid']))\n",
    "    apertures = CircularAperture(positions, r=4.0)\n",
    "    norm = ImageNormalize(stretch=SqrtStretch())\n",
    "    plt.imshow(data, cmap='Greys', origin='lower', norm=norm,\n",
    "               interpolation='nearest')\n",
    "    apertures.plot(color='blue', lw=1.5, alpha=0.5)\n",
    "\n",
    "else:\n",
    "    datafits = fits.open(\"ossaf/data/2023_05_27__01_19_08.fits.bz2\")[0]\n",
    "    # 读取图像\n",
    "    data = datafits.data[0]\n",
    "    gain = datafits.header['GAIN_ELE']\n",
    "    # data = data / 1e6\n",
    "\n",
    "    mean, median, std = sigma_clipped_stats(data, mask=mask_data, sigma=3.0)\n",
    "    print((mean, median, std))\n",
    "\n",
    "    # 创建DAOStarFinder对象\n",
    "    daofind = DAOStarFinder(fwhm=4.0, threshold=5. * std)\n",
    "\n",
    "    # 提取点源\n",
    "    sources = daofind.find_stars(data - median, mask=mask_data)\n",
    "\n",
    "    # 打印点源坐标和其他属性\n",
    "    print(sources)\n",
    "\n",
    "    positions = np.transpose((sources['xcentroid'], sources['ycentroid']))\n",
    "    apertures = CircularAperture(positions, r=4.0)\n",
    "    norm = ImageNormalize(stretch=SqrtStretch())\n",
    "    plt.imshow(data, cmap='Greys', origin='lower', norm=norm,\n",
    "               interpolation='nearest')\n",
    "    apertures.plot(color='blue', lw=1.5, alpha=0.5)\n",
    "\n"
   ]
  },
  {
   "cell_type": "code",
   "execution_count": null,
   "outputs": [],
   "source": [
    "# 像素坐标系到地平坐标系的映射\n",
    "from astropy import units as u\n",
    "from astropy.coordinates import SkyCoord, AltAz, EarthLocation\n",
    "from astropy.time import Time"
   ],
   "metadata": {
    "collapsed": false
   }
  },
  {
   "cell_type": "code",
   "execution_count": null,
   "outputs": [],
   "source": [
    "def to_altaz(x, y, x_offset=1053, y_offset=1017, radius=983, north=155.6 * u.deg):\n",
    "    # move to center\n",
    "    x = x - 1053\n",
    "    y = y - 1017\n",
    "\n",
    "    # polar coordinates\n",
    "    r = np.sqrt(x ** 2 + y ** 2)\n",
    "    theta = np.arctan2(y, x)\n",
    "    print(f\"theta: {theta}, r: {r}\")\n",
    "\n",
    "    # convert to altaz\n",
    "    alt = r / radius * u.rad * np.pi / 2\n",
    "    alt = np.pi / 2 * u.rad - alt\n",
    "    az = (- theta) * u.rad - north\n",
    "    print(f\"alt: {alt}, az: {az}\")\n",
    "\n",
    "    return AltAz(alt=alt, az=az)"
   ],
   "metadata": {
    "collapsed": false
   }
  },
  {
   "cell_type": "markdown",
   "source": [
    "to_altaz(1100, 1017)"
   ],
   "metadata": {
    "collapsed": false
   }
  },
  {
   "cell_type": "markdown",
   "source": [
    "star = to_altaz(sources[1]['xcentroid'], sources[1]['ycentroid'])\n",
    "star"
   ],
   "metadata": {
    "collapsed": false
   }
  },
  {
   "cell_type": "code",
   "execution_count": null,
   "outputs": [],
   "source": [
    "# JLO 坐标\n",
    "location = EarthLocation(lat=43.82416667 * u.deg, lon=126.331111 * u.deg, height=313 * u.m)\n",
    "\n",
    "time = datafits.header['DATE-OBS']\n",
    "time = Time(time, format='isot', scale='utc', location=location)\n",
    "time = time - 8 * u.hour\n",
    "\n",
    "frame = AltAz(obstime=time, location=location)\n"
   ],
   "metadata": {
    "collapsed": false
   }
  },
  {
   "cell_type": "code",
   "execution_count": null,
   "outputs": [],
   "source": [
    "import sqlite3\n",
    "\n",
    "engine = sqlite3.connect('ossaf/data/tyc2.sqlite')\n"
   ],
   "metadata": {
    "collapsed": false
   }
  },
  {
   "cell_type": "code",
   "execution_count": null,
   "outputs": [],
   "source": [
    "import pandas as pd\n",
    "\n",
    "limit_magnitude = 8\n",
    "tyc2 = pd.read_sql_query(f\"SELECT * FROM tyc2 WHERE VTmag < {limit_magnitude} \", engine)"
   ],
   "metadata": {
    "collapsed": false
   }
  },
  {
   "cell_type": "code",
   "execution_count": null,
   "outputs": [],
   "source": [
    "def find_tyc_star(star: SkyCoord, altaz):\n",
    "    d_ra = tyc2.RA_ICRS_ - star.ra\n",
    "    d_dec = tyc2.DE_ICRS_ - star.dec\n",
    "\n",
    "    d = d_ra ** 2 + d_dec ** 2\n",
    "\n",
    "    min_id = np.argmin(d)\n",
    "    min_d = np.sqrt(d[min_id])\n",
    "\n",
    "    print(f\"min_d: {min_d}, min_id: {min_id}\")\n",
    "\n",
    "    threshold = min_d_threshold(altaz)\n",
    "\n",
    "    if min_d > threshold:\n",
    "        return None, min_d\n",
    "    else:\n",
    "        return tyc2.iloc[min_id], min_d\n",
    "\n",
    "\n",
    "def min_d_threshold(star: AltAz, factor=20):\n",
    "    a = 2 * star.alt.to(u.rad).value / np.pi\n",
    "    print(a)\n",
    "    b = (1 - a) * mask.full_radius\n",
    "    print(b)\n",
    "    c = (1 / b)\n",
    "    print(c)\n",
    "    c *= factor\n",
    "    result = c * 360 / 2 / np.pi\n",
    "    return result"
   ],
   "metadata": {
    "collapsed": false
   }
  },
  {
   "cell_type": "code",
   "execution_count": null,
   "outputs": [],
   "source": [
    "df_source = sources.to_pandas()\n",
    "altaz_sources = to_altaz(df_source.xcentroid.to_numpy(), df_source.ycentroid.to_numpy())\n",
    "star = SkyCoord(alt=altaz_sources.alt, az=altaz_sources.az, frame=frame)\n",
    "icrs_sources = star.transform_to('icrs')\n",
    "\n",
    "valid_sources = pd.DataFrame()\n",
    "num_valid_sources = 0\n",
    "for i in range(len(icrs_sources)):\n",
    "    tyc, r = find_tyc_star(icrs_sources[i], star[i])\n",
    "    print(tyc, r)\n",
    "    if tyc is not None:\n",
    "        num_valid_sources += 1\n",
    "        valid_sources = pd.concat([valid_sources, tyc], axis=1)\n",
    "valid_sources = valid_sources.T"
   ],
   "metadata": {
    "collapsed": false
   }
  },
  {
   "cell_type": "code",
   "execution_count": null,
   "outputs": [],
   "source": [
    "num_valid_sources"
   ],
   "metadata": {
    "collapsed": false
   }
  },
  {
   "cell_type": "code",
   "execution_count": null,
   "outputs": [],
   "source": [
    "len(icrs_sources)"
   ],
   "metadata": {
    "collapsed": false
   }
  },
  {
   "cell_type": "markdown",
   "source": [
    "# 填充天区\n",
    "\n",
    "HEAPIX"
   ],
   "metadata": {
    "collapsed": false
   }
  },
  {
   "cell_type": "code",
   "execution_count": null,
   "outputs": [],
   "source": [
    "valid_sources"
   ],
   "metadata": {
    "collapsed": false
   }
  },
  {
   "cell_type": "code",
   "execution_count": null,
   "outputs": [],
   "source": [
    "valid_icrs = SkyCoord(ra=valid_sources.RA_ICRS_ * u.deg, dec=valid_sources.DE_ICRS_ * u.deg, frame='icrs')\n",
    "valid_altaz = valid_icrs.transform_to(frame)\n",
    "valid_altaz"
   ],
   "metadata": {
    "collapsed": false
   }
  },
  {
   "cell_type": "markdown",
   "source": [
    "遍历天区，查看该天区是否有可见的星\n",
    "天区以 10*10平方度 为一块区域"
   ],
   "metadata": {
    "collapsed": false
   }
  },
  {
   "cell_type": "code",
   "execution_count": null,
   "outputs": [],
   "source": [
    "from astropy_healpix import HEALPix\n",
    "\n",
    "# # 创建空白的表格\n",
    "# sky_zone = pd.DataFrame(columns=['alt', 'az', 'valid'])\n",
    "# for alt in range(0, 100, 10):\n",
    "#     for az in range(0, 370, 10):\n",
    "#         sky_zone = pd.concat([sky_zone, pd.DataFrame([[alt, az, 0]], columns=['alt', 'az', 'valid'])])\n",
    "\n",
    "# healpix 存储\n",
    "sky_zone_healpix = pd.DataFrame(columns=['H_ID', 'valid', 'total'])\n",
    "\n",
    "nside = 4\n",
    "hp = HEALPix(nside=nside, order='ring')\n",
    "for i in range(hp.npix):\n",
    "    sky_zone_healpix = pd.concat(\n",
    "        [sky_zone_healpix, pd.DataFrame([[i, 0, 0, 0]], columns=['H_ID', 'valid', 'total', 'mag_score'])])\n",
    "\n",
    "# 遍历可见星，填充表格\n",
    "h_id = hp.lonlat_to_healpix(lon=valid_altaz.az, lat=valid_altaz.alt)\n",
    "for index in h_id:\n",
    "    # alt = vstar.alt.to(u.deg).value // 10 * 10\n",
    "    # az = vstar.az.to(u.deg).value // 10 * 10\n",
    "    # print(f\"alt: {alt}, az: {az}\")\n",
    "    # sky_zone.loc[(sky_zone.alt == alt) & (sky_zone.az == az), 'valid'] += 1\n",
    "\n",
    "    # healpix\n",
    "    sky_zone_healpix.loc[sky_zone_healpix.H_ID == index, 'valid'] += 1"
   ],
   "metadata": {
    "collapsed": false
   }
  },
  {
   "cell_type": "code",
   "execution_count": null,
   "outputs": [],
   "source": [
    "\n",
    "# 天区总星数\n",
    "tyc2_total = SkyCoord(ra=tyc2.RA_ICRS_ * u.deg, dec=tyc2.DE_ICRS_ * u.deg, frame='icrs')\n",
    "tyc2_total_altaz = tyc2_total.transform_to(frame)\n",
    "tycho2_heapix = hp.lonlat_to_healpix(lon=tyc2_total_altaz.az, lat=tyc2_total_altaz.alt)\n",
    "for i in range(len(tyc2_total_altaz)):\n",
    "    mag = tyc2.VTmag[i]\n",
    "    tstar = tyc2_total_altaz[i]\n",
    "    # healpix\n",
    "    h_id = tycho2_heapix[i]\n",
    "    sky_zone_healpix.loc[sky_zone_healpix.H_ID == h_id, 'total'] += 1\n",
    "    sky_zone_healpix.loc[sky_zone_healpix.H_ID == h_id, 'mag_score'] += limit_magnitude - mag\n",
    "\n",
    "sky_zone_healpix.mag_score = sky_zone_healpix.mag_score / 9\n"
   ],
   "metadata": {
    "collapsed": false
   }
  },
  {
   "cell_type": "code",
   "execution_count": null,
   "outputs": [],
   "source": [
    "sky_zone_healpix"
   ],
   "metadata": {
    "collapsed": false
   }
  },
  {
   "cell_type": "code",
   "execution_count": null,
   "outputs": [],
   "source": [
    "# sky_zone_healpix['cloudy'] = 1 - (sky_zone_healpix.valid / sky_zone_healpix.total) / 0.15\n",
    "sky_zone_healpix['clear'] = (sky_zone_healpix.valid / sky_zone_healpix.mag_score) / 0.4\n",
    "sky_zone_healpix.loc[sky_zone_healpix.valid > 0, 'clear'] += 0.5\n",
    "sky_zone_healpix.loc[sky_zone_healpix['clear'] > 1, 'clear'] = 1"
   ],
   "metadata": {
    "collapsed": false
   }
  },
  {
   "cell_type": "code",
   "execution_count": null,
   "outputs": [],
   "source": [
    "sky_zone_healpix"
   ],
   "metadata": {
    "collapsed": false
   }
  },
  {
   "cell_type": "code",
   "execution_count": null,
   "outputs": [],
   "source": [
    "sky_zone_healpix['cloud'] = 1 - sky_zone_healpix['clear']\n",
    "sky_zone_healpix.to_sql('cloud', engine, if_exists='replace')"
   ],
   "metadata": {
    "collapsed": false
   }
  },
  {
   "cell_type": "code",
   "execution_count": null,
   "outputs": [],
   "source": [
    "result = pd.DataFrame(sky_zone_healpix.loc[:, ['H_ID', 'clear']])\n",
    "result.set_index('H_ID', inplace=True)\n",
    "result = result.T\n",
    "result.index = [time.to_datetime()]"
   ],
   "metadata": {
    "collapsed": false
   }
  },
  {
   "cell_type": "code",
   "execution_count": null,
   "outputs": [],
   "source": [],
   "metadata": {
    "collapsed": false
   }
  }
 ],
 "metadata": {
  "kernelspec": {
   "display_name": "Python 3",
   "language": "python",
   "name": "python3"
  },
  "language_info": {
   "codemirror_mode": {
    "name": "ipython",
    "version": 2
   },
   "file_extension": ".py",
   "mimetype": "text/x-python",
   "name": "python",
   "nbconvert_exporter": "python",
   "pygments_lexer": "ipython2",
   "version": "2.7.6"
  }
 },
 "nbformat": 4,
 "nbformat_minor": 0
}
