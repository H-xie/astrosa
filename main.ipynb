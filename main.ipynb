{
 "cells": [
  {
   "cell_type": "code",
   "execution_count": null,
   "outputs": [],
   "source": [
    "from rich.progress import Progress, TimeElapsedColumn, track\n",
    "\n",
    "import astroplan\n",
    "from assess import *\n",
    "from utils import df2Targets, obs_start, obs_end\n",
    "\n",
    "# scheduler = Scheduler()\n",
    "\n",
    "# create Plan\n",
    "s = list()\n",
    "\n",
    "asp_priority_plan = pd.read_json('assess/tests/data/schedule_139of300.json')\n",
    "\n",
    "# DataFrame 2 plan\n",
    "for _, star in track(asp_priority_plan.iterrows()):\n",
    "    star_target = df2Targets(star)\n",
    "    start = Time(star['start'])\n",
    "    end = Time(star['end'])\n",
    "\n",
    "    vt_mag = star['VTmag'] * u.mag\n",
    "\n",
    "    shot = Shot(star_target, start, end)\n",
    "    s.append(shot)\n",
    "\n",
    "\n",
    "plan = Plan()\n",
    "\n",
    "plan.data = s\n",
    "\n",
    "if plan.is_valid():\n",
    "    print(f'plan is valid')\n",
    "\n",
    "# create Cloud\n",
    "cloud = pd.read_json(\"assess/tests/data/cloud.json\", orient='index')\n",
    "weather = Weather(Cloud(cloud))\n",
    "observer = astroplan.Observer.at_site(\"BAO\")\n",
    "\n",
    "ossaf = Ossaf(observer, plan, None, weather, obs_start=obs_start, obs_end=obs_end)\n",
    "\n",
    "result = ossaf.run()\n",
    "\n",
    "print(result)\n",
    "\n",
    "print(\"end\")\n"
   ],
   "metadata": {
    "collapsed": false,
    "pycharm": {
     "is_executing": true
    }
   }
  },
  {
   "cell_type": "code",
   "execution_count": null,
   "id": "a06da336-54bc-4a9e-a238-b74940e88474",
   "metadata": {
    "tags": [],
    "pycharm": {
     "is_executing": true
    }
   },
   "outputs": [],
   "source": [
    "import os\n",
    "os.system('pwd')\n"
   ]
  },
  {
   "cell_type": "code",
   "execution_count": null,
   "id": "75f55c28-90b4-49b3-9020-c070ae8ffcf2",
   "metadata": {},
   "outputs": [],
   "source": []
  }
 ],
 "metadata": {
  "kernelspec": {
   "display_name": "ossaf",
   "language": "python",
   "name": "ossaf"
  },
  "language_info": {
   "codemirror_mode": {
    "name": "ipython",
    "version": 3
   },
   "file_extension": ".py",
   "mimetype": "text/x-python",
   "name": "python",
   "nbconvert_exporter": "python",
   "pygments_lexer": "ipython3",
   "version": "3.10.0"
  }
 },
 "nbformat": 4,
 "nbformat_minor": 5
}
